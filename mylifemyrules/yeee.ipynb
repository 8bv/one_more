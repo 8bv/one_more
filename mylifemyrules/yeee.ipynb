{
 "cells": [
  {
   "cell_type": "code",
   "execution_count": 2,
   "metadata": {},
   "outputs": [],
   "source": [
    "import numpy as np\n",
    "import pandas as pd\n",
    "import requests"
   ]
  },
  {
   "cell_type": "code",
   "execution_count": 3,
   "metadata": {},
   "outputs": [],
   "source": [
    "access_token = '62a0f09062a0f09062a0f0902362cf6588662a062a0f0903c9e5936e0bce537bdcda88f'\n",
    "\n",
    "api_version = 5.103\n",
    "\n",
    "wall_get = 'https://api.vk.com/method/wall.get'"
   ]
  },
  {
   "cell_type": "code",
   "execution_count": 4,
   "metadata": {},
   "outputs": [
    {
     "name": "stdout",
     "output_type": "stream",
     "text": [
      "0\n",
      "100\n",
      "200\n",
      "300\n",
      "400\n"
     ]
    }
   ],
   "source": [
    "post_id = []\n",
    "text = []\n",
    "date = []\n",
    "likes = []\n",
    "views = []\n",
    "comments = []\n",
    "is_pinned = []\n",
    "\n",
    "\n",
    "\n",
    "for i in range(0, 401, 100):\n",
    "    p = {\n",
    "        'domain': 'hse_ir',\n",
    "        'filter': 'all',\n",
    "        'count': 100,\n",
    "        'offset': i,\n",
    "        'access_token': access_token,\n",
    "        'v': api_version\n",
    "        }\n",
    "    print(i)\n",
    "    \n",
    "    \n",
    "    res_wall = requests.get(url = wall_get, params = p)\n",
    "    \n",
    "    for post in res_wall.json()['response']['items']:\n",
    "        post_id.append(post['id'])\n",
    "        text.append(post['text'])\n",
    "        date.append(post['date'])\n",
    "        likes.append(post['likes']['count'])\n",
    "        if 'views' in post.keys():\n",
    "            views.append(post['views']['count'])\n",
    "        else:\n",
    "            views.append(0)\n",
    "        comments.append(post['comments']['count'])\n",
    "       \n",
    "        if 'is_pinned' in post.keys():\n",
    "            is_pinned.append(post['is_pinned'])\n",
    "        else:\n",
    "            is_pinned.append(0)        "
   ]
  },
  {
   "cell_type": "code",
   "execution_count": 5,
   "metadata": {},
   "outputs": [],
   "source": [
    "data = pd.DataFrame({\n",
    "    'post_id': post_id, 'text': text, 'date': date, \n",
    "    'likes': likes, 'views': views,\n",
    "    'comments': comments,'is_pinned':is_pinned\n",
    "})"
   ]
  },
  {
   "cell_type": "code",
   "execution_count": 14,
   "metadata": {},
   "outputs": [],
   "source": [
    "# new_data = data[ (data['post_id'] <= 200) | (data['post_id'] >= 939) ].index\n",
    "# data.drop(new_data, inplace=True) - версия с удалением опредленных id\n",
    "\n",
    "new_data = data.loc[(data['post_id'] > 200) & (data['post_id'] < 939)]"
   ]
  },
  {
   "cell_type": "code",
   "execution_count": 15,
   "metadata": {},
   "outputs": [
    {
     "data": {
      "text/html": [
       "<div>\n",
       "<style scoped>\n",
       "    .dataframe tbody tr th:only-of-type {\n",
       "        vertical-align: middle;\n",
       "    }\n",
       "\n",
       "    .dataframe tbody tr th {\n",
       "        vertical-align: top;\n",
       "    }\n",
       "\n",
       "    .dataframe thead th {\n",
       "        text-align: right;\n",
       "    }\n",
       "</style>\n",
       "<table border=\"1\" class=\"dataframe\">\n",
       "  <thead>\n",
       "    <tr style=\"text-align: right;\">\n",
       "      <th></th>\n",
       "      <th>post_id</th>\n",
       "      <th>text</th>\n",
       "      <th>date</th>\n",
       "      <th>likes</th>\n",
       "      <th>views</th>\n",
       "      <th>comments</th>\n",
       "      <th>is_pinned</th>\n",
       "    </tr>\n",
       "  </thead>\n",
       "  <tbody>\n",
       "    <tr>\n",
       "      <th>95</th>\n",
       "      <td>935</td>\n",
       "      <td></td>\n",
       "      <td>1575040200</td>\n",
       "      <td>24</td>\n",
       "      <td>1010</td>\n",
       "      <td>6</td>\n",
       "      <td>0</td>\n",
       "    </tr>\n",
       "    <tr>\n",
       "      <th>96</th>\n",
       "      <td>931</td>\n",
       "      <td>Жизнь факультета мировой экономики и мировой п...</td>\n",
       "      <td>1574787980</td>\n",
       "      <td>38</td>\n",
       "      <td>1168</td>\n",
       "      <td>2</td>\n",
       "      <td>0</td>\n",
       "    </tr>\n",
       "    <tr>\n",
       "      <th>97</th>\n",
       "      <td>927</td>\n",
       "      <td>Студентка баварского университета Анна Катарин...</td>\n",
       "      <td>1574694600</td>\n",
       "      <td>12</td>\n",
       "      <td>830</td>\n",
       "      <td>0</td>\n",
       "      <td>0</td>\n",
       "    </tr>\n",
       "    <tr>\n",
       "      <th>98</th>\n",
       "      <td>926</td>\n",
       "      <td></td>\n",
       "      <td>1574666707</td>\n",
       "      <td>8</td>\n",
       "      <td>650</td>\n",
       "      <td>0</td>\n",
       "      <td>0</td>\n",
       "    </tr>\n",
       "    <tr>\n",
       "      <th>99</th>\n",
       "      <td>925</td>\n",
       "      <td>Уважаемые студенты!\\n \\n28-29 ноября наш факул...</td>\n",
       "      <td>1574435400</td>\n",
       "      <td>7</td>\n",
       "      <td>667</td>\n",
       "      <td>0</td>\n",
       "      <td>0</td>\n",
       "    </tr>\n",
       "    <tr>\n",
       "      <th>...</th>\n",
       "      <td>...</td>\n",
       "      <td>...</td>\n",
       "      <td>...</td>\n",
       "      <td>...</td>\n",
       "      <td>...</td>\n",
       "      <td>...</td>\n",
       "      <td>...</td>\n",
       "    </tr>\n",
       "    <tr>\n",
       "      <th>334</th>\n",
       "      <td>207</td>\n",
       "      <td>Соня Мирель ( https://vk.com/s.mirel )\\n1й кур...</td>\n",
       "      <td>1530523260</td>\n",
       "      <td>19</td>\n",
       "      <td>1339</td>\n",
       "      <td>0</td>\n",
       "      <td>0</td>\n",
       "    </tr>\n",
       "    <tr>\n",
       "      <th>335</th>\n",
       "      <td>205</td>\n",
       "      <td>Зайцева Елена ( https://vk.com/id384180860 )\\n...</td>\n",
       "      <td>1530436860</td>\n",
       "      <td>23</td>\n",
       "      <td>1323</td>\n",
       "      <td>0</td>\n",
       "      <td>0</td>\n",
       "    </tr>\n",
       "    <tr>\n",
       "      <th>336</th>\n",
       "      <td>204</td>\n",
       "      <td>Алдошкина Мария ( https://vk.com/marylandia )\\...</td>\n",
       "      <td>1530350460</td>\n",
       "      <td>19</td>\n",
       "      <td>1067</td>\n",
       "      <td>0</td>\n",
       "      <td>0</td>\n",
       "    </tr>\n",
       "    <tr>\n",
       "      <th>337</th>\n",
       "      <td>203</td>\n",
       "      <td>Магомедов Рустам ( https://vk.com/rustya5041 )...</td>\n",
       "      <td>1530264060</td>\n",
       "      <td>30</td>\n",
       "      <td>1201</td>\n",
       "      <td>0</td>\n",
       "      <td>0</td>\n",
       "    </tr>\n",
       "    <tr>\n",
       "      <th>338</th>\n",
       "      <td>202</td>\n",
       "      <td>Елагина Мария ( https://vk.com/id124378594 )\\n...</td>\n",
       "      <td>1530177660</td>\n",
       "      <td>12</td>\n",
       "      <td>906</td>\n",
       "      <td>0</td>\n",
       "      <td>0</td>\n",
       "    </tr>\n",
       "  </tbody>\n",
       "</table>\n",
       "<p>244 rows × 7 columns</p>\n",
       "</div>"
      ],
      "text/plain": [
       "     post_id                                               text        date  \\\n",
       "95       935                                                     1575040200   \n",
       "96       931  Жизнь факультета мировой экономики и мировой п...  1574787980   \n",
       "97       927  Студентка баварского университета Анна Катарин...  1574694600   \n",
       "98       926                                                     1574666707   \n",
       "99       925  Уважаемые студенты!\\n \\n28-29 ноября наш факул...  1574435400   \n",
       "..       ...                                                ...         ...   \n",
       "334      207  Соня Мирель ( https://vk.com/s.mirel )\\n1й кур...  1530523260   \n",
       "335      205  Зайцева Елена ( https://vk.com/id384180860 )\\n...  1530436860   \n",
       "336      204  Алдошкина Мария ( https://vk.com/marylandia )\\...  1530350460   \n",
       "337      203  Магомедов Рустам ( https://vk.com/rustya5041 )...  1530264060   \n",
       "338      202  Елагина Мария ( https://vk.com/id124378594 )\\n...  1530177660   \n",
       "\n",
       "     likes  views  comments  is_pinned  \n",
       "95      24   1010         6          0  \n",
       "96      38   1168         2          0  \n",
       "97      12    830         0          0  \n",
       "98       8    650         0          0  \n",
       "99       7    667         0          0  \n",
       "..     ...    ...       ...        ...  \n",
       "334     19   1339         0          0  \n",
       "335     23   1323         0          0  \n",
       "336     19   1067         0          0  \n",
       "337     30   1201         0          0  \n",
       "338     12    906         0          0  \n",
       "\n",
       "[244 rows x 7 columns]"
      ]
     },
     "execution_count": 15,
     "metadata": {},
     "output_type": "execute_result"
    }
   ],
   "source": [
    "new_data.head(245) # проверка на то, что мы имеем верный срез"
   ]
  },
  {
   "cell_type": "code",
   "execution_count": 29,
   "metadata": {},
   "outputs": [
    {
     "data": {
      "text/plain": [
       "17.41"
      ]
     },
     "execution_count": 29,
     "metadata": {},
     "output_type": "execute_result"
    }
   ],
   "source": [
    "res = np.mean(new_data['likes']) # среднее\n",
    "round(res, 3)"
   ]
  },
  {
   "cell_type": "code",
   "execution_count": 17,
   "metadata": {},
   "outputs": [
    {
     "data": {
      "text/plain": [
       "5650"
      ]
     },
     "execution_count": 17,
     "metadata": {},
     "output_type": "execute_result"
    }
   ],
   "source": [
    "max(new_data['views'])"
   ]
  },
  {
   "cell_type": "code",
   "execution_count": 30,
   "metadata": {},
   "outputs": [
    {
     "data": {
      "text/plain": [
       "161.59"
      ]
     },
     "execution_count": 30,
     "metadata": {},
     "output_type": "execute_result"
    }
   ],
   "source": [
    "res = max(new_data['likes']) - np.mean(new_data['likes'])\n",
    "round(res, 3)"
   ]
  },
  {
   "cell_type": "code",
   "execution_count": 25,
   "metadata": {},
   "outputs": [
    {
     "data": {
      "text/plain": [
       "286635"
      ]
     },
     "execution_count": 25,
     "metadata": {},
     "output_type": "execute_result"
    }
   ],
   "source": [
    "res = 0 # ставим пустую переменную\n",
    "for i in range (new_data['post_id'].index[0], new_data['post_id'].index[-1]+1): # обходим все id в нашем списке\n",
    "    res += len(new_data['text'][i]) # при прохождении каждого элемента 'text' берем его длину и добавляем его значение в результат\n",
    "    \n",
    "res"
   ]
  }
 ],
 "metadata": {
  "kernelspec": {
   "display_name": "Python 3",
   "language": "python",
   "name": "python3"
  },
  "language_info": {
   "codemirror_mode": {
    "name": "ipython",
    "version": 3
   },
   "file_extension": ".py",
   "mimetype": "text/x-python",
   "name": "python",
   "nbconvert_exporter": "python",
   "pygments_lexer": "ipython3",
   "version": "3.8.0"
  }
 },
 "nbformat": 4,
 "nbformat_minor": 4
}
